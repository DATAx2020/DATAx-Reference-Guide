{
 "cells": [
  {
   "cell_type": "markdown",
   "metadata": {},
   "source": [
    "# Interaktives Nachschlagewerk - Strings\n",
    "\n",
    "Strings sind eine Folge von Zeichen und sind ein Datentyp von Python."
   ]
  },
  {
   "cell_type": "markdown",
   "metadata": {},
   "source": [
    "### Einen String deklarieren/erstellen:"
   ]
  },
  {
   "cell_type": "code",
   "execution_count": 4,
   "metadata": {},
   "outputs": [
    {
     "name": "stdout",
     "output_type": "stream",
     "text": [
      "Das ist ein String\n"
     ]
    }
   ],
   "source": [
    "neuer_string = \"Das ist ein String\"\n",
    "print(neuer_string)"
   ]
  },
  {
   "cell_type": "code",
   "execution_count": 5,
   "metadata": {},
   "outputs": [
    {
     "data": {
      "text/plain": [
       "str"
      ]
     },
     "execution_count": 5,
     "metadata": {},
     "output_type": "execute_result"
    }
   ],
   "source": [
    "type(neuer_string)"
   ]
  },
  {
   "cell_type": "markdown",
   "metadata": {},
   "source": [
    "### Einen mehrzeiligen String erstellen"
   ]
  },
  {
   "cell_type": "code",
   "execution_count": 14,
   "metadata": {},
   "outputs": [
    {
     "name": "stdout",
     "output_type": "stream",
     "text": [
      "Das Dichten verstehen\n",
      "Wer das Dichten will verstehen,\n",
      "Muß ins Land der Dichtung gehen;\n",
      "Wer den Dichter will verstehen,\n",
      "Muß in Dichters Lande gehen.\n"
     ]
    }
   ],
   "source": [
    "# drei Anführungszeichen für einen mehrzeiligen String\n",
    "gedicht = '''Das Dichten verstehen\n",
    "Wer das Dichten will verstehen,\n",
    "Muß ins Land der Dichtung gehen;\n",
    "Wer den Dichter will verstehen,\n",
    "Muß in Dichters Lande gehen.'''\n",
    "print (gedicht)"
   ]
  },
  {
   "cell_type": "markdown",
   "metadata": {},
   "source": [
    "### Sonderzeichen mit \\ Backslash darstellen"
   ]
  },
  {
   "cell_type": "code",
   "execution_count": 7,
   "metadata": {},
   "outputs": [
    {
     "name": "stdout",
     "output_type": "stream",
     "text": [
      "Spiderman: \"Vergiss niemals: Aus großer Macht, folgt große Verantwortung!\"\n"
     ]
    }
   ],
   "source": [
    "# \\\" für Anführungszeichen im String\n",
    "beispiel_1 = \"Spiderman: \\\"Vergiss niemals: Aus großer Macht, folgt große Verantwortung!\\\"\"\n",
    "print(beispiel_1)"
   ]
  },
  {
   "cell_type": "code",
   "execution_count": 9,
   "metadata": {},
   "outputs": [
    {
     "name": "stdout",
     "output_type": "stream",
     "text": [
      "Das hier ist Zeile 1\n",
      "Das hier ist Zeile 2\n",
      "Das hier ist Zeile 3\n"
     ]
    }
   ],
   "source": [
    "# \\n für Zeilenumbruch\n",
    "beispiel_2 = \"Das hier ist Zeile 1\\nDas hier ist Zeile 2\\nDas hier ist Zeile 3\"\n",
    "print(beispiel_2)"
   ]
  },
  {
   "cell_type": "code",
   "execution_count": 13,
   "metadata": {},
   "outputs": [
    {
     "name": "stdout",
     "output_type": "stream",
     "text": [
      "Diese Zeichen beginnen am Anfang\tund es folgt ein Tabulator\n"
     ]
    }
   ],
   "source": [
    "# \\t für Tabulor = große Einrückung\n",
    "beispiel_3 = \"Diese Zeichen beginnen am Anfang\\tund es folgt ein Tabulator\"\n",
    "print(beispiel_3)"
   ]
  },
  {
   "cell_type": "markdown",
   "metadata": {},
   "source": [
    "### String Index - einzelne Zeichen aus String auswählen\n",
    "\n",
    "Da der String eine Folge von Zeichen ist kann jedes Zeichen des Strings über seinen Index aufgerufen werden"
   ]
  },
  {
   "cell_type": "markdown",
   "metadata": {},
   "source": [
    "!!! Der String Index beginnt bei 0 !!! "
   ]
  },
  {
   "cell_type": "code",
   "execution_count": 18,
   "metadata": {},
   "outputs": [
    {
     "name": "stdout",
     "output_type": "stream",
     "text": [
      "P\n",
      "t\n",
      "h\n",
      "o\n",
      "n\n"
     ]
    }
   ],
   "source": [
    "string = \"Python\"\n",
    "print(string[0])\n",
    "print(string[2])\n",
    "print(string[3])\n",
    "print(string[4])\n",
    "print(string[5])"
   ]
  },
  {
   "cell_type": "markdown",
   "metadata": {},
   "source": [
    "Der String Index kann auch von hinten aufgerufen werden mit negativen Zahlen. Das ist hilfreich wenn man die letzten Zeichen eines Strings addressieren will unabänging von seine länge."
   ]
  },
  {
   "cell_type": "code",
   "execution_count": 21,
   "metadata": {},
   "outputs": [
    {
     "name": "stdout",
     "output_type": "stream",
     "text": [
      "P\n",
      "y\n",
      "t\n",
      "h\n",
      "o\n",
      "n\n"
     ]
    }
   ],
   "source": [
    "print (string[-6])\n",
    "print (string[-5])\n",
    "print (string[-4]) \n",
    "print (string[-3])\n",
    "print (string[-2])\n",
    "print (string[-1])"
   ]
  },
  {
   "cell_type": "markdown",
   "metadata": {},
   "source": [
    "### String Slicing - einzelen Abschnitte auswählen"
   ]
  },
  {
   "cell_type": "markdown",
   "metadata": {},
   "source": [
    "Die ersten 6 Zeichen des Strings auswählen:"
   ]
  },
  {
   "cell_type": "code",
   "execution_count": 25,
   "metadata": {},
   "outputs": [
    {
     "name": "stdout",
     "output_type": "stream",
     "text": [
      "Dieser\n"
     ]
    }
   ],
   "source": [
    "satz = \"Dieser Satz besteht aus mehreren Wörtern.\"\n",
    "print(satz[0:6])"
   ]
  },
  {
   "cell_type": "code",
   "execution_count": 26,
   "metadata": {},
   "outputs": [
    {
     "name": "stdout",
     "output_type": "stream",
     "text": [
      "Dieser\n"
     ]
    }
   ],
   "source": [
    "satz = \"Dieser Satz besteht aus mehreren Wörtern.\"\n",
    "print(satz[:6])"
   ]
  },
  {
   "cell_type": "markdown",
   "metadata": {},
   "source": [
    "Die letzten 8 Zeichen auswählen:"
   ]
  },
  {
   "cell_type": "code",
   "execution_count": 27,
   "metadata": {},
   "outputs": [
    {
     "name": "stdout",
     "output_type": "stream",
     "text": [
      "Wörtern.\n"
     ]
    }
   ],
   "source": [
    "print(satz[-8:])"
   ]
  },
  {
   "cell_type": "markdown",
   "metadata": {},
   "source": [
    "Ein Wort aus der Mitte:"
   ]
  },
  {
   "cell_type": "code",
   "execution_count": 30,
   "metadata": {},
   "outputs": [
    {
     "name": "stdout",
     "output_type": "stream",
     "text": [
      "Satz\n"
     ]
    }
   ],
   "source": [
    "print(satz[7:11])"
   ]
  },
  {
   "cell_type": "markdown",
   "metadata": {},
   "source": [
    "Den ganzen String umkehren:"
   ]
  },
  {
   "cell_type": "code",
   "execution_count": 31,
   "metadata": {},
   "outputs": [
    {
     "name": "stdout",
     "output_type": "stream",
     "text": [
      ".nretröW nererhem sua thetseb ztaS reseiD\n"
     ]
    }
   ],
   "source": [
    "print(satz[::-1])"
   ]
  },
  {
   "cell_type": "markdown",
   "metadata": {},
   "source": [
    "## Wichtige Stringe Methoden \n",
    "\n",
    "Python hat eine vielzahl vor Methoden die an Strings ausgeführt werden können. "
   ]
  },
  {
   "cell_type": "markdown",
   "metadata": {},
   "source": [
    "###  .capitalize() - das erste Zeichen großschreiben"
   ]
  },
  {
   "cell_type": "code",
   "execution_count": 32,
   "metadata": {},
   "outputs": [
    {
     "name": "stdout",
     "output_type": "stream",
     "text": [
      "Karl gustav müller\n"
     ]
    }
   ],
   "source": [
    "name = \"karl gustav müller\"\n",
    "print(name.capitalize())"
   ]
  },
  {
   "cell_type": "markdown",
   "metadata": {},
   "source": [
    "### .upper() - alle Zeichen großschreiben"
   ]
  },
  {
   "cell_type": "code",
   "execution_count": 33,
   "metadata": {},
   "outputs": [
    {
     "name": "stdout",
     "output_type": "stream",
     "text": [
      "KARL GUSTAV MÜLLER\n"
     ]
    }
   ],
   "source": [
    "name = \"karl gustav müller\"\n",
    "print(name.upper())"
   ]
  },
  {
   "cell_type": "markdown",
   "metadata": {},
   "source": [
    "### .title() - jeden Wortanfang großschreiben"
   ]
  },
  {
   "cell_type": "code",
   "execution_count": 34,
   "metadata": {},
   "outputs": [
    {
     "name": "stdout",
     "output_type": "stream",
     "text": [
      "Karl Gustav Müller\n"
     ]
    }
   ],
   "source": [
    "name = \"karl gustav müller\"\n",
    "print(name.title())"
   ]
  },
  {
   "cell_type": "markdown",
   "metadata": {},
   "source": [
    "### .replace() - Zeichen im String austauschen"
   ]
  },
  {
   "cell_type": "code",
   "execution_count": 35,
   "metadata": {},
   "outputs": [
    {
     "name": "stdout",
     "output_type": "stream",
     "text": [
      "€€€ Supersale 99.99€ €€€\n"
     ]
    }
   ],
   "source": [
    "angebot = \"$$$ Supersale 99.99$ $$$\"\n",
    "print(angebot.replace(\"$\",\"€\"))"
   ]
  },
  {
   "cell_type": "markdown",
   "metadata": {},
   "source": [
    "### .find() - Zeichen in String suchen"
   ]
  },
  {
   "cell_type": "code",
   "execution_count": 38,
   "metadata": {},
   "outputs": [
    {
     "name": "stdout",
     "output_type": "stream",
     "text": [
      "2\n"
     ]
    }
   ],
   "source": [
    "# Wenn ein Zeichen gefunden wurde wird der Index zurückgegeben\n",
    "string = \"Python\"\n",
    "print(string.find(\"t\"))"
   ]
  },
  {
   "cell_type": "code",
   "execution_count": 37,
   "metadata": {},
   "outputs": [
    {
     "name": "stdout",
     "output_type": "stream",
     "text": [
      "-1\n"
     ]
    }
   ],
   "source": [
    "# Wird das Zeichen nicht gefunden wird -1 zurückgegeben\n",
    "string = \"Python\"\n",
    "print(string.find(\"X\"))"
   ]
  },
  {
   "cell_type": "code",
   "execution_count": 39,
   "metadata": {},
   "outputs": [
    {
     "name": "stdout",
     "output_type": "stream",
     "text": [
      "-1\n"
     ]
    }
   ],
   "source": [
    "string = \"Python\"\n",
    "print(string.find(\"Z\"))"
   ]
  },
  {
   "cell_type": "markdown",
   "metadata": {},
   "source": [
    "## f-Strings - einen String formatieren\n",
    "\n",
    "Python bietet mehrere Möglichkeiten Strings zu formatieren."
   ]
  },
  {
   "cell_type": "code",
   "execution_count": 42,
   "metadata": {},
   "outputs": [
    {
     "data": {
      "text/plain": [
       "'Peter ist 28 Jahre alt.'"
      ]
     },
     "execution_count": 42,
     "metadata": {},
     "output_type": "execute_result"
    }
   ],
   "source": [
    "name = \"Peter\"\n",
    "alter = 28\n",
    "f\"{name} ist {alter} Jahre alt.\""
   ]
  },
  {
   "cell_type": "markdown",
   "metadata": {},
   "source": [
    "f-Strings erlauben jeden Python Ausdruck zu verwenden:"
   ]
  },
  {
   "cell_type": "code",
   "execution_count": 44,
   "metadata": {},
   "outputs": [
    {
     "data": {
      "text/plain": [
       "'Peter ist 28 Jahre alt. Das entspricht 336 Monate. Nächstes wird er 29.'"
      ]
     },
     "execution_count": 44,
     "metadata": {},
     "output_type": "execute_result"
    }
   ],
   "source": [
    "name = \"Peter\"\n",
    "alter = 28\n",
    "f\"{name} ist {alter} Jahre alt. Das entspricht {alter*12} Monate. Nächstes Jahr wird er {alter+1}.\""
   ]
  },
  {
   "cell_type": "code",
   "execution_count": null,
   "metadata": {},
   "outputs": [],
   "source": []
  }
 ],
 "metadata": {
  "kernelspec": {
   "display_name": "Python 3",
   "language": "python",
   "name": "python3"
  },
  "language_info": {
   "codemirror_mode": {
    "name": "ipython",
    "version": 3
   },
   "file_extension": ".py",
   "mimetype": "text/x-python",
   "name": "python",
   "nbconvert_exporter": "python",
   "pygments_lexer": "ipython3",
   "version": "3.7.1"
  }
 },
 "nbformat": 4,
 "nbformat_minor": 2
}
