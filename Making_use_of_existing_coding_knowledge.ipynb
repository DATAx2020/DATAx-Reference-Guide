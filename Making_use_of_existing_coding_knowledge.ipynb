{
 "cells": [
  {
   "cell_type": "markdown",
   "metadata": {},
   "source": [
    "# Python Reference-Guide - Finding Code online "
   ]
  },
  {
   "cell_type": "markdown",
   "metadata": {},
   "source": [
    "<img src=\"https://pics.me.me/github-stack-overflow-y-code-my-code-44625886.png\" />"
   ]
  },
  {
   "cell_type": "markdown",
   "metadata": {},
   "source": [
    "## Stackoverflow\n",
    "\n",
    "An online coding community, where you can ask and find questions and answers for coding problems.\n",
    "\n",
    "[Visit stackoverflow.com](https://stackoverflow.com/)\n",
    "\n",
    "Important Notes:\n",
    "\n",
    "* make sure your question has not already been asked\n",
    "* try it your self and show your code\n",
    "* abstract your problem"
   ]
  },
  {
   "cell_type": "markdown",
   "metadata": {},
   "source": [
    "## Github\n",
    "\n",
    "If you are building a project chances are good that some parts were already made by someone. Just copy it!\n",
    "You can collaborate with other programmers and request changes to existing projects.\n",
    "\n",
    "[Visit github.com](https://github.com/)"
   ]
  },
  {
   "cell_type": "code",
   "execution_count": null,
   "metadata": {},
   "outputs": [],
   "source": []
  }
 ],
 "metadata": {
  "kernelspec": {
   "display_name": "Python 3",
   "language": "python",
   "name": "python3"
  },
  "language_info": {
   "codemirror_mode": {
    "name": "ipython",
    "version": 3
   },
   "file_extension": ".py",
   "mimetype": "text/x-python",
   "name": "python",
   "nbconvert_exporter": "python",
   "pygments_lexer": "ipython3",
   "version": "3.7.1"
  }
 },
 "nbformat": 4,
 "nbformat_minor": 2
}
